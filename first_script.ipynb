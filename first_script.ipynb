{
 "cells": [
  {
   "cell_type": "markdown",
   "metadata": {},
   "source": [
    "<div align=\"center\">\n",
    "  <img src=\"src/Head.png\" alt=\"Conceptos básicos de Python\">\n",
    "</div>"
   ]
  },
  {
   "cell_type": "markdown",
   "metadata": {},
   "source": [
    "<p align=\"center\">\n",
    "<a href=\"https://github.com/AlarconIlbert\"><img src=\"https://img.shields.io/badge/python-FFFF0.svg?style=for-the-badge&logo=python&logoColor=0768a8&labelColor=ffffff\" alt=\"python\"></a> <img src=\"https://img.shields.io/badge/vscode-blue.svg?style=for-the-badge&logo=visual-studio-code&labelColor=ffffff&logoColor=blue\" alt=\"vscode\"> <a href=\"https://github.com/AlarconIlbert\"><img src=\"https://img.shields.io/badge/github-black.svg?style=for-the-badge&logo=github&logoColor=black&labelColor=ffffff\" alt=\"github\"></a>\n",
    "</p>\n",
    "\n",
    "\n",
    "<p align=\"center\">\n",
    "  <a href=\"https://www.linkedin.com/in/ilbert-ferney-alarcon-bothia/\">\n",
    "    <img src=\"https://img.shields.io/badge/-ILBERT-blue?style=flat-square&logo=Linkedin&logoColor=white\" alt=\"Linkedin: thaianebraga\">\n",
    "  </a>\n",
    "  <img src=\"https://img.shields.io/github/followers/AlarconIlbert?label=Follow&style=social\" alt=\"GitHub followers\">\n",
    "  <a href=\"mailto:ilbertalarcon1@gmail.com\">\n",
    "    <img src=\"https://img.shields.io/badge/Outlook-ilbertalarcon1@gmail.com-red\" alt=\"Outlook\">\n",
    "  </a>\n",
    "</p>"
   ]
  },
  {
   "cell_type": "markdown",
   "metadata": {},
   "source": [
    "### 1.Comentarios: Los comentarios se crean con el símbolo #. Los comentarios son útiles para agregar notas explicativas en tu código."
   ]
  },
  {
   "cell_type": "code",
   "execution_count": 19,
   "metadata": {},
   "outputs": [],
   "source": [
    "#Hola mundo en comentario"
   ]
  },
  {
   "cell_type": "markdown",
   "metadata": {},
   "source": [
    "### 2.Indentación: Python utiliza la indentación en lugar de llaves o paréntesis para delimitar bloques de código. Los bloques deben tener la misma cantidad de espacio en blanco al principio"
   ]
  },
  {
   "cell_type": "code",
   "execution_count": 20,
   "metadata": {},
   "outputs": [
    {
     "name": "stdout",
     "output_type": "stream",
     "text": [
      "x es mayor que 5\n"
     ]
    }
   ],
   "source": [
    "x=10\n",
    "if x > 5:\n",
    "    print(\"x es mayor que 5\")"
   ]
  },
  {
   "cell_type": "markdown",
   "metadata": {},
   "source": [
    "### 3. Identificadores: Los nombres de variables deben seguir ciertas convenciones, como comenzar con una letra o un guion bajo, no contener espacios y seguir un estilo de nomenclatura, como snake_case (todas en minúsculas, separadas por guiones bajos)."
   ]
  },
  {
   "cell_type": "code",
   "execution_count": 21,
   "metadata": {},
   "outputs": [],
   "source": [
    "mi_variable = 42"
   ]
  },
  {
   "cell_type": "markdown",
   "metadata": {},
   "source": [
    "### 4.Variables y asignación: En Python, no es necesario declarar el tipo de una variable; Python lo infiere automáticamente."
   ]
  },
  {
   "cell_type": "code",
   "execution_count": 22,
   "metadata": {},
   "outputs": [],
   "source": [
    "nombre = \"Juan\"\n",
    "edad = 30"
   ]
  },
  {
   "cell_type": "markdown",
   "metadata": {},
   "source": [
    "### 5. Bloques de código: Los bloques de código se definen mediante la indentación. Los dos puntos (:) indican el inicio de un bloque."
   ]
  },
  {
   "cell_type": "code",
   "execution_count": 23,
   "metadata": {},
   "outputs": [
    {
     "name": "stdout",
     "output_type": "stream",
     "text": [
      "x es mayor que 5\n"
     ]
    }
   ],
   "source": [
    "x=10\n",
    "if x > 5:\n",
    "    print(\"x es mayor que 5\")"
   ]
  },
  {
   "cell_type": "markdown",
   "metadata": {},
   "source": [
    "### 6. Uso de comillas: Puedes usar comillas simples (') o comillas dobles (\") para definir cadenas de texto."
   ]
  },
  {
   "cell_type": "code",
   "execution_count": 24,
   "metadata": {},
   "outputs": [],
   "source": [
    "nombre = 'Ilbert'\n",
    "apellido = \"Alarcon\""
   ]
  },
  {
   "cell_type": "markdown",
   "metadata": {},
   "source": [
    "### 7. Convenciones del PEP 8: El PEP 8 es un conjunto de convenciones de estilo que ayudan a que el código sea más legible. Algunas de las recomendaciones clave incluyen:\n",
    "\n",
    "Usar sangría de 4 espacios.<br>\n",
    "Limitar las líneas a 79 caracteres para código y 72 caracteres para comentarios y documentación.<br>\n",
    "Usar nombres descriptivos para variables y funciones.<br>\n",
    "Evitar líneas en blanco innecesarias y espacios en blanco al final de las líneas.<br>\n",
    "Utilizar dos líneas en blanco para separar funciones y clases.<br>"
   ]
  },
  {
   "cell_type": "code",
   "execution_count": 25,
   "metadata": {},
   "outputs": [],
   "source": [
    "def calcular_promedio(lista_de_numeros):\n",
    "    total = sum(lista_de_numeros)\n",
    "    cantidad = len(lista_de_numeros)\n",
    "    promedio = total / cantidad\n",
    "    return promedio"
   ]
  },
  {
   "cell_type": "markdown",
   "metadata": {},
   "source": [
    "----"
   ]
  },
  {
   "cell_type": "code",
   "execution_count": 26,
   "metadata": {},
   "outputs": [
    {
     "name": "stdout",
     "output_type": "stream",
     "text": [
      "Hola, Python\n"
     ]
    }
   ],
   "source": [
    "print('Hola, Python')"
   ]
  },
  {
   "cell_type": "markdown",
   "metadata": {},
   "source": [
    "¿Qué versión de Python estamos usando? "
   ]
  },
  {
   "cell_type": "code",
   "execution_count": 27,
   "metadata": {},
   "outputs": [
    {
     "name": "stdout",
     "output_type": "stream",
     "text": [
      "3.10.8 (tags/v3.10.8:aaaf517, Oct 11 2022, 16:50:30) [MSC v.1933 64 bit (AMD64)]\n"
     ]
    }
   ],
   "source": [
    "import sys\n",
    "print(sys.version)"
   ]
  },
  {
   "cell_type": "markdown",
   "metadata": {},
   "source": [
    "Errores en Python"
   ]
  },
  {
   "cell_type": "code",
   "execution_count": 28,
   "metadata": {},
   "outputs": [
    {
     "ename": "NameError",
     "evalue": "name 'frint' is not defined",
     "output_type": "error",
     "traceback": [
      "\u001b[1;31m---------------------------------------------------------------------------\u001b[0m",
      "\u001b[1;31mNameError\u001b[0m                                 Traceback (most recent call last)",
      "\u001b[1;32md:\\_DATA ENGINEER\\Python_for_Data_Science_AI_IBM\\first_script.ipynb Cell 22\u001b[0m line \u001b[0;36m1\n\u001b[1;32m----> <a href='vscode-notebook-cell:/d%3A/_DATA%20ENGINEER/Python_for_Data_Science_AI_IBM/first_script.ipynb#X30sZmlsZQ%3D%3D?line=0'>1</a>\u001b[0m frint(\u001b[39m'\u001b[39m\u001b[39mHola, Python\u001b[39m\u001b[39m'\u001b[39m)\n",
      "\u001b[1;31mNameError\u001b[0m: name 'frint' is not defined"
     ]
    }
   ],
   "source": [
    "frint('Hola, Python')"
   ]
  },
  {
   "cell_type": "markdown",
   "metadata": {},
   "source": [
    "¿Python sabe de su error antes de ejecutar su código?"
   ]
  },
  {
   "cell_type": "code",
   "execution_count": 29,
   "metadata": {},
   "outputs": [
    {
     "name": "stdout",
     "output_type": "stream",
     "text": [
      "Hola, Python\n"
     ]
    },
    {
     "ename": "NameError",
     "evalue": "name 'frint' is not defined",
     "output_type": "error",
     "traceback": [
      "\u001b[1;31m---------------------------------------------------------------------------\u001b[0m",
      "\u001b[1;31mNameError\u001b[0m                                 Traceback (most recent call last)",
      "\u001b[1;32md:\\_DATA ENGINEER\\Python_for_Data_Science_AI_IBM\\first_script.ipynb Cell 24\u001b[0m line \u001b[0;36m2\n\u001b[0;32m      <a href='vscode-notebook-cell:/d%3A/_DATA%20ENGINEER/Python_for_Data_Science_AI_IBM/first_script.ipynb#X32sZmlsZQ%3D%3D?line=0'>1</a>\u001b[0m \u001b[39mprint\u001b[39m(\u001b[39m'\u001b[39m\u001b[39mHola, Python\u001b[39m\u001b[39m'\u001b[39m)\n\u001b[1;32m----> <a href='vscode-notebook-cell:/d%3A/_DATA%20ENGINEER/Python_for_Data_Science_AI_IBM/first_script.ipynb#X32sZmlsZQ%3D%3D?line=1'>2</a>\u001b[0m frint(\u001b[39m'\u001b[39m\u001b[39mHola, Python\u001b[39m\u001b[39m'\u001b[39m)\n\u001b[0;32m      <a href='vscode-notebook-cell:/d%3A/_DATA%20ENGINEER/Python_for_Data_Science_AI_IBM/first_script.ipynb#X32sZmlsZQ%3D%3D?line=2'>3</a>\u001b[0m \u001b[39mprint\u001b[39m(\u001b[39m'\u001b[39m\u001b[39mHola, Python\u001b[39m\u001b[39m'\u001b[39m)\n",
      "\u001b[1;31mNameError\u001b[0m: name 'frint' is not defined"
     ]
    }
   ],
   "source": [
    "print('Hola, Python')\n",
    "frint('Hola, Python')\n",
    "print('Hola, Python')"
   ]
  },
  {
   "cell_type": "markdown",
   "metadata": {},
   "source": [
    "-----"
   ]
  },
  {
   "cell_type": "markdown",
   "metadata": {},
   "source": [
    "## Variables y tipos de datos:"
   ]
  },
  {
   "cell_type": "code",
   "execution_count": 30,
   "metadata": {},
   "outputs": [],
   "source": [
    "# Asignar valores a variables\n",
    "\n",
    "nombre = \"Juan\"\n",
    "edad = 30\n",
    "precio = 19.99"
   ]
  },
  {
   "cell_type": "code",
   "execution_count": 31,
   "metadata": {},
   "outputs": [],
   "source": [
    "# Reasignar valores a variables\n",
    "\n",
    "nombre = \"María\"\n",
    "edad = edad + 1"
   ]
  },
  {
   "cell_type": "markdown",
   "metadata": {},
   "source": [
    "### Tipos de Datos Fundamentales"
   ]
  },
  {
   "cell_type": "code",
   "execution_count": 32,
   "metadata": {},
   "outputs": [],
   "source": [
    "#Cadenas (Strings)\n",
    "\n",
    "texto = \"Hola, mundo!\"\n",
    "\n",
    "#Números enteros (int)\n",
    "edad = 25\n",
    "\n",
    "#Números de punto flotante (float)\n",
    "precio = 19.99\n",
    "\n",
    "#Booleanos (bool)\n",
    "es_mayor_de_edad = True"
   ]
  },
  {
   "cell_type": "markdown",
   "metadata": {},
   "source": [
    "### Conversión de Tipos de Datos"
   ]
  },
  {
   "cell_type": "code",
   "execution_count": 33,
   "metadata": {},
   "outputs": [],
   "source": [
    "#Convertir a cadena\n",
    "edad = 30\n",
    "texto_edad = str(edad)\n",
    "\n",
    "#Convertir a entero\n",
    "numero_texto = \"25\"\n",
    "numero = int(numero_texto)\n",
    "\n",
    "#Convertir a punto flotante\n",
    "precio_texto = \"19.99\"\n",
    "precio = float(precio_texto)"
   ]
  },
  {
   "cell_type": "markdown",
   "metadata": {},
   "source": [
    "--------"
   ]
  },
  {
   "cell_type": "markdown",
   "metadata": {},
   "source": [
    "# Operaciones Matematicas"
   ]
  },
  {
   "cell_type": "markdown",
   "metadata": {},
   "source": [
    "<div align=\"center\">\n",
    "  \n",
    "| Operador      | Descripción                    | Ejemplo      |\n",
    "|:-------------:|:------------------------------:|:------------:|\n",
    "| `+`           | Suma                           | `a + b`      |\n",
    "| `-`           | Resta                          | `a - b`      |\n",
    "| `*`           | Multiplicación                 | `x * y`      |\n",
    "| `/`           | División                       | `dividendo / divisor` |\n",
    "| `//`          | División entera                | `dividendo // divisor` |\n",
    "| `%`           | Módulo (resto de la división)  | `a % b`      |\n",
    "| `**`          | Exponenciación                 | `base ** exponente`  |\n",
    "\n",
    "\n",
    "</div>"
   ]
  },
  {
   "cell_type": "markdown",
   "metadata": {},
   "source": [
    "# Operaciones Abreviadas"
   ]
  },
  {
   "cell_type": "markdown",
   "metadata": {},
   "source": [
    "<div align=\"center\">\n",
    "  \n",
    "| Operador    | Descripción                   | Ejemplo                  |\n",
    "|:-------------:|:-------------------------------:|:--------------------------:|\n",
    "| `+=`        | Suma abreviada                | `x = 5`<br>`x += 3`     |\n",
    "| `-=`        | Resta abreviada               | `y = 10`<br>`y -= 4`    |\n",
    "| `*=`        | Multiplicación abreviada      | `z = 6`<br>`z *= 7`     |\n",
    "| `/=`        | División abreviada            | `w = 20`<br>`w /= 4`    |\n",
    "| `//=`       | División entera abreviada     | `a = 9`<br>`a //= 2`    |\n",
    "| `%=`        | Módulo abreviado              | `b = 11`<br>`b %= 3`    |\n",
    "| `**=`       | Exponente abreviado           | `c = 2`<br>`c **= 3`    |\n",
    "\n",
    "</div>"
   ]
  },
  {
   "cell_type": "markdown",
   "metadata": {},
   "source": [
    "# Estructuras de control"
   ]
  },
  {
   "cell_type": "markdown",
   "metadata": {},
   "source": [
    "### Declaración if"
   ]
  },
  {
   "cell_type": "code",
   "execution_count": 34,
   "metadata": {},
   "outputs": [
    {
     "name": "stdout",
     "output_type": "stream",
     "text": [
      "Eres mayor de edad\n"
     ]
    }
   ],
   "source": [
    "edad = 18\n",
    "if edad >= 18:\n",
    "    print(\"Eres mayor de edad\")\n",
    "else:\n",
    "    print(\"Eres menor de edad\")"
   ]
  },
  {
   "cell_type": "markdown",
   "metadata": {},
   "source": [
    "### Bucles for"
   ]
  },
  {
   "cell_type": "code",
   "execution_count": 35,
   "metadata": {},
   "outputs": [
    {
     "name": "stdout",
     "output_type": "stream",
     "text": [
      "1\n",
      "2\n",
      "3\n",
      "4\n",
      "5\n"
     ]
    }
   ],
   "source": [
    "numeros = [1, 2, 3, 4, 5]\n",
    "for numero in numeros:\n",
    "    print(numero)"
   ]
  },
  {
   "cell_type": "markdown",
   "metadata": {},
   "source": [
    "### Bucle while"
   ]
  },
  {
   "cell_type": "code",
   "execution_count": 36,
   "metadata": {},
   "outputs": [
    {
     "name": "stdout",
     "output_type": "stream",
     "text": [
      "0\n",
      "1\n",
      "2\n",
      "3\n",
      "4\n"
     ]
    }
   ],
   "source": [
    "contador = 0\n",
    "while contador < 5:\n",
    "    print(contador)\n",
    "    contador += 1"
   ]
  },
  {
   "cell_type": "markdown",
   "metadata": {},
   "source": [
    "### Declaración break"
   ]
  },
  {
   "cell_type": "code",
   "execution_count": 37,
   "metadata": {},
   "outputs": [
    {
     "name": "stdout",
     "output_type": "stream",
     "text": [
      "1\n",
      "2\n"
     ]
    }
   ],
   "source": [
    "# Usar break para salir de un bucle\n",
    "\n",
    "numeros = [1, 2, 3, 4, 5]\n",
    "for numero in numeros:\n",
    "    if numero == 3:\n",
    "        break\n",
    "    print(numero)"
   ]
  },
  {
   "cell_type": "markdown",
   "metadata": {},
   "source": [
    "### Declaración continue"
   ]
  },
  {
   "cell_type": "code",
   "execution_count": 38,
   "metadata": {},
   "outputs": [
    {
     "name": "stdout",
     "output_type": "stream",
     "text": [
      "1\n",
      "2\n",
      "4\n",
      "5\n"
     ]
    }
   ],
   "source": [
    "# Usar continue para saltar a la siguiente iteración en un bucle\n",
    "\n",
    "numeros = [1, 2, 3, 4, 5]\n",
    "for numero in numeros:\n",
    "    if numero == 3:\n",
    "        continue\n",
    "    print(numero)"
   ]
  },
  {
   "cell_type": "markdown",
   "metadata": {},
   "source": [
    "------"
   ]
  },
  {
   "cell_type": "markdown",
   "metadata": {},
   "source": [
    "# Definir Funciones"
   ]
  },
  {
   "cell_type": "code",
   "execution_count": 39,
   "metadata": {},
   "outputs": [
    {
     "name": "stdout",
     "output_type": "stream",
     "text": [
      "¡Hola, mundo!\n"
     ]
    }
   ],
   "source": [
    "# Definir una función básica\n",
    "def saludar():\n",
    "    print(\"¡Hola, mundo!\")\n",
    "\n",
    "# Llamar a la función\n",
    "saludar()"
   ]
  },
  {
   "cell_type": "code",
   "execution_count": 40,
   "metadata": {},
   "outputs": [
    {
     "name": "stdout",
     "output_type": "stream",
     "text": [
      "¡Hola, Juan!\n"
     ]
    }
   ],
   "source": [
    "# Definir una función con parámetros\n",
    "\n",
    "def saludar(nombre):\n",
    "    print(f\"¡Hola, {nombre}!\")\n",
    "\n",
    "# Llamar a la función con argumento\n",
    "saludar(\"Juan\")"
   ]
  },
  {
   "cell_type": "markdown",
   "metadata": {},
   "source": [
    "### Parámetros y Argumentos"
   ]
  },
  {
   "cell_type": "code",
   "execution_count": 41,
   "metadata": {},
   "outputs": [
    {
     "name": "stdout",
     "output_type": "stream",
     "text": [
      "8\n"
     ]
    }
   ],
   "source": [
    "#Parámetros posicionales\n",
    "\n",
    "def suma(a, b):\n",
    "    resultado = a + b\n",
    "    return resultado\n",
    "\n",
    "# Llamar a la función con argumentos posicionales\n",
    "resultado = suma(5, 3)\n",
    "print(resultado)"
   ]
  },
  {
   "cell_type": "code",
   "execution_count": 42,
   "metadata": {},
   "outputs": [
    {
     "name": "stdout",
     "output_type": "stream",
     "text": [
      "¡Hola, Invitado!\n",
      "¡Hola, Ana!\n"
     ]
    }
   ],
   "source": [
    "#Parámetros por defecto\n",
    "\n",
    "def saludar(nombre=\"Invitado\"):\n",
    "    print(f\"¡Hola, {nombre}!\")\n",
    "\n",
    "# Llamar a la función sin argumento (usará el valor por defecto)\n",
    "saludar()\n",
    "\n",
    "# Llamar a la función con argumento\n",
    "saludar(\"Ana\")"
   ]
  },
  {
   "cell_type": "code",
   "execution_count": 43,
   "metadata": {},
   "outputs": [
    {
     "name": "stdout",
     "output_type": "stream",
     "text": [
      "8\n"
     ]
    }
   ],
   "source": [
    "#Retornar un valor desde una función\n",
    "\n",
    "def suma(a, b):\n",
    "    resultado = a + b\n",
    "    return resultado\n",
    "\n",
    "# Llamar a la función y almacenar el resultado\n",
    "resultado = suma(5, 3)\n",
    "print(resultado)"
   ]
  },
  {
   "cell_type": "code",
   "execution_count": 44,
   "metadata": {},
   "outputs": [
    {
     "name": "stdout",
     "output_type": "stream",
     "text": [
      "15.0\n"
     ]
    }
   ],
   "source": [
    "#Función con múltiples parámetros\n",
    "\n",
    "def calcular_promedio(a, b, c):\n",
    "    suma = a + b + c\n",
    "    promedio = suma / 3\n",
    "    return promedio\n",
    "\n",
    "# Llamar a la función con argumentos\n",
    "promedio = calcular_promedio(10, 15, 20)\n",
    "print(promedio)"
   ]
  },
  {
   "cell_type": "code",
   "execution_count": 45,
   "metadata": {},
   "outputs": [
    {
     "name": "stdout",
     "output_type": "stream",
     "text": [
      "Buen día, Juan!\n"
     ]
    }
   ],
   "source": [
    "#Función con argumentos de palabra clave\n",
    "\n",
    "def saludar(nombre, saludo=\"Hola\"):\n",
    "    print(f\"{saludo}, {nombre}!\")\n",
    "\n",
    "# Llamar a la función con argumentos de palabra clave\n",
    "saludar(nombre=\"Juan\", saludo=\"Buen día\")"
   ]
  },
  {
   "cell_type": "code",
   "execution_count": 46,
   "metadata": {},
   "outputs": [
    {
     "name": "stdout",
     "output_type": "stream",
     "text": [
      "Rojo\n",
      "Verde\n",
      "Azul\n"
     ]
    }
   ],
   "source": [
    "#Función con parámetros arbitrarios (lista de argumentos)\n",
    "\n",
    "def listar_colores(*colores):\n",
    "    for color in colores:\n",
    "        print(color)\n",
    "\n",
    "# Llamar a la función con varios argumentos\n",
    "listar_colores(\"Rojo\", \"Verde\", \"Azul\")"
   ]
  },
  {
   "cell_type": "code",
   "execution_count": 47,
   "metadata": {},
   "outputs": [
    {
     "name": "stdout",
     "output_type": "stream",
     "text": [
      "nombre: Ana\n",
      "edad: 30\n",
      "ciudad: Madrid\n"
     ]
    }
   ],
   "source": [
    "#Función con parámetros arbitrarios (diccionario de argumentos)\n",
    "\n",
    "def mostrar_info(**datos):\n",
    "    for clave, valor in datos.items():\n",
    "        print(f\"{clave}: {valor}\")\n",
    "\n",
    "# Llamar a la función con argumentos como pares clave-valor\n",
    "mostrar_info(nombre=\"Ana\", edad=30, ciudad=\"Madrid\")"
   ]
  },
  {
   "cell_type": "markdown",
   "metadata": {},
   "source": [
    "------"
   ]
  },
  {
   "cell_type": "markdown",
   "metadata": {},
   "source": [
    "# Listas"
   ]
  },
  {
   "cell_type": "markdown",
   "metadata": {},
   "source": [
    "| Característica             | Descripción                                                  |\n",
    "|:-----------------------------:|--------------------------------------------------------------|\n",
    "| **Mutabilidad**             | Las listas son mutables, lo que significa que su contenido puede cambiar después de su creación.        |\n",
    "| **Orden**                   | Las listas son ordenadas, lo que significa que los elementos se almacenan en un orden específico y se pueden acceder por índice. |\n",
    "| **Heterogeneidad**          | Las listas pueden contener elementos de diferentes tipos de datos, como números, cadenas, listas anidadas, etc. |\n",
    "| **Índices y Slicing**       | Los elementos de una lista se acceden mediante índices, y se pueden obtener subconjuntos de una lista utilizando la técnica de \"slicing\". |\n",
    "| **Duplicados**              | Las listas pueden contener elementos duplicados, lo que significa que un mismo valor puede aparecer varias veces en una lista. |\n",
    "| **Longitud Dinámica**       | Puedes agregar o eliminar elementos de una lista según sea necesario, lo que hace que la longitud de la lista sea dinámica. |\n",
    "| **Operaciones de Lista**    | Las listas admiten una variedad de operaciones, como agregar elementos (`append`, `insert`), eliminar elementos (`pop`, `remove`), ordenar (`sort`), contar (`count`) y más. |\n",
    "| **Iteración**               | Puedes recorrer los elementos de una lista fácilmente utilizando bucles `for`. |\n",
    "| **Funciones y Métodos**     | Python proporciona funciones y métodos integrados para trabajar con listas, lo que facilita las operaciones comunes. |\n",
    "| **Representación**          | Las listas se representan con corchetes `[]`, y los elementos se separan por comas. Ejemplo: `[1, 2, 3]`. |"
   ]
  },
  {
   "cell_type": "code",
   "execution_count": 48,
   "metadata": {},
   "outputs": [],
   "source": [
    "#Crear una lista\n",
    "mi_lista = [1, 2, 3, 4, 5]"
   ]
  },
  {
   "cell_type": "code",
   "execution_count": 49,
   "metadata": {},
   "outputs": [
    {
     "name": "stdout",
     "output_type": "stream",
     "text": [
      "5\n"
     ]
    }
   ],
   "source": [
    "#Acceder a elementos de una lista\n",
    "\n",
    "primer_elemento = mi_lista[0]\n",
    "ultimo_elemento = mi_lista[-1]\n",
    "\n",
    "print(ultimo_elemento)"
   ]
  },
  {
   "cell_type": "code",
   "execution_count": 50,
   "metadata": {},
   "outputs": [],
   "source": [
    "#Modificar elementos de una lista\n",
    "\n",
    "mi_lista[2] = 100"
   ]
  },
  {
   "cell_type": "code",
   "execution_count": 51,
   "metadata": {},
   "outputs": [
    {
     "name": "stdout",
     "output_type": "stream",
     "text": [
      "[1, 50, 2, 100, 4, 5, 6]\n"
     ]
    }
   ],
   "source": [
    "#Agregar elementos a una lista\n",
    "\n",
    "mi_lista.append(6)         # Agregar al final\n",
    "mi_lista.insert(1, 50)     # Insertar en una posición específica\n",
    "print(mi_lista)"
   ]
  },
  {
   "cell_type": "code",
   "execution_count": 52,
   "metadata": {},
   "outputs": [
    {
     "name": "stdout",
     "output_type": "stream",
     "text": [
      "[1, 50, 100, 5]\n"
     ]
    }
   ],
   "source": [
    "#Eliminar elementos de una lista\n",
    "\n",
    "elemento_eliminado = mi_lista.pop()        # Eliminar el último elemento y obtenerlo\n",
    "elemento_eliminado = mi_lista.pop(2)       # Eliminar un elemento en una posición específica\n",
    "mi_lista.remove(4)\n",
    "print(mi_lista)"
   ]
  },
  {
   "cell_type": "markdown",
   "metadata": {},
   "source": [
    "-------"
   ]
  },
  {
   "cell_type": "markdown",
   "metadata": {},
   "source": [
    "# Tuplas"
   ]
  },
  {
   "cell_type": "markdown",
   "metadata": {},
   "source": [
    "| **Característica**             | Descripción                                                  |\n",
    "|:-----------------------------:|--------------------------------------------------------------|\n",
    "| **Inmutabilidad**           | Las tuplas son inmutables, lo que significa que una vez creadas, no se pueden modificar, agregar ni eliminar elementos.  |\n",
    "| **Orden**                   | Las tuplas son ordenadas, lo que significa que los elementos se almacenan en un orden específico y se pueden acceder por índice. |\n",
    "| **Heterogeneidad**          | Las tuplas pueden contener elementos de diferentes tipos de datos, al igual que las listas.  |\n",
    "| **Índices y Slicing**       | Los elementos de una tupla se acceden mediante índices, y también se pueden obtener subconjuntos de una tupla utilizando la técnica de \"slicing\". |\n",
    "| **Duplicados**              | Las tuplas pueden contener elementos duplicados, al igual que las listas.  |\n",
    "| **Longitud Fija**           | A diferencia de las listas, las tuplas tienen una longitud fija que se establece al crearlas, y no se pueden cambiar después. |\n",
    "| **Representación**          | Las tuplas se representan con paréntesis `()`, y los elementos se separan por comas. Ejemplo: `(1, 2, 3)`. |\n",
    "| **Uso de Coma en Tuplas de un Solo Elemento** | Para crear una tupla de un solo elemento, se utiliza una coma al final del valor, por ejemplo, `(1,)`. |\n",
    "| **Embalaje y Desembalaje**  | Las tuplas permiten el empaquetamiento (packing) y desempaquetamiento (unpacking) de valores en una sola operación. |\n",
    "| **Iteración**               | Puedes recorrer los elementos de una tupla fácilmente utilizando bucles `for`. |\n",
    "| **Funciones y Métodos**     | Aunque las tuplas son inmutables, Python proporciona algunas funciones y métodos integrados para trabajar con ellas, como `count` e `index`. |"
   ]
  },
  {
   "cell_type": "code",
   "execution_count": 53,
   "metadata": {},
   "outputs": [],
   "source": [
    "#Crear una tupla\n",
    "\n",
    "mi_tupla = (1, 2, 3, 4, 5)"
   ]
  },
  {
   "cell_type": "code",
   "execution_count": 55,
   "metadata": {},
   "outputs": [],
   "source": [
    "#Acceder a elementos de una tupla\n",
    "\n",
    "primer_elemento = mi_tupla[0]\n",
    "ultimo_elemento = mi_tupla[-1]"
   ]
  },
  {
   "cell_type": "code",
   "execution_count": 56,
   "metadata": {},
   "outputs": [
    {
     "ename": "TypeError",
     "evalue": "'tuple' object does not support item assignment",
     "output_type": "error",
     "traceback": [
      "\u001b[1;31m---------------------------------------------------------------------------\u001b[0m",
      "\u001b[1;31mTypeError\u001b[0m                                 Traceback (most recent call last)",
      "\u001b[1;32md:\\_DATA ENGINEER\\Python_for_Data_Science_AI_IBM\\first_script.ipynb Cell 73\u001b[0m line \u001b[0;36m4\n\u001b[0;32m      <a href='vscode-notebook-cell:/d%3A/_DATA%20ENGINEER/Python_for_Data_Science_AI_IBM/first_script.ipynb#Y132sZmlsZQ%3D%3D?line=0'>1</a>\u001b[0m \u001b[39m#Las tuplas son inmutables (no se pueden modificar)\u001b[39;00m\n\u001b[0;32m      <a href='vscode-notebook-cell:/d%3A/_DATA%20ENGINEER/Python_for_Data_Science_AI_IBM/first_script.ipynb#Y132sZmlsZQ%3D%3D?line=1'>2</a>\u001b[0m \n\u001b[0;32m      <a href='vscode-notebook-cell:/d%3A/_DATA%20ENGINEER/Python_for_Data_Science_AI_IBM/first_script.ipynb#Y132sZmlsZQ%3D%3D?line=2'>3</a>\u001b[0m \u001b[39m# Esto generará un error\u001b[39;00m\n\u001b[1;32m----> <a href='vscode-notebook-cell:/d%3A/_DATA%20ENGINEER/Python_for_Data_Science_AI_IBM/first_script.ipynb#Y132sZmlsZQ%3D%3D?line=3'>4</a>\u001b[0m mi_tupla[\u001b[39m2\u001b[39;49m] \u001b[39m=\u001b[39m \u001b[39m100\u001b[39m\n",
      "\u001b[1;31mTypeError\u001b[0m: 'tuple' object does not support item assignment"
     ]
    }
   ],
   "source": [
    "#Las tuplas son inmutables (no se pueden modificar)\n",
    "\n",
    "# Esto generará un error\n",
    "mi_tupla[2] = 100"
   ]
  },
  {
   "cell_type": "markdown",
   "metadata": {},
   "source": [
    "### Conversión entre Listas y Tuplas"
   ]
  },
  {
   "cell_type": "code",
   "execution_count": 57,
   "metadata": {},
   "outputs": [],
   "source": [
    "#Convertir una lista en tupla\n",
    "\n",
    "mi_lista = [1, 2, 3]\n",
    "mi_tupla = tuple(mi_lista)"
   ]
  },
  {
   "cell_type": "code",
   "execution_count": 62,
   "metadata": {},
   "outputs": [],
   "source": [
    "#Convertir una tupla en lista\n",
    "\n",
    "mi_tupla = (4, 5, 6)\n",
    "mi_lista = list(mi_tupla)"
   ]
  },
  {
   "cell_type": "markdown",
   "metadata": {},
   "source": [
    "### Funciones Útiles para Listas y Tuplas"
   ]
  },
  {
   "cell_type": "code",
   "execution_count": 63,
   "metadata": {},
   "outputs": [],
   "source": [
    "#Longitud de una lista o tupla\n",
    "\n",
    "longitud = len(mi_lista)"
   ]
  },
  {
   "cell_type": "code",
   "execution_count": 64,
   "metadata": {},
   "outputs": [],
   "source": [
    "#Ordenar una lista\n",
    "\n",
    "mi_lista.sort()        # Ordenar en orden ascendente\n",
    "mi_lista.sort(reverse=True)  # Ordenar en orden descendente"
   ]
  },
  {
   "cell_type": "code",
   "execution_count": 68,
   "metadata": {},
   "outputs": [
    {
     "name": "stdout",
     "output_type": "stream",
     "text": [
      "1\n"
     ]
    }
   ],
   "source": [
    "#Obtener el índice de un elemento en una lista\n",
    "\n",
    "indice = mi_lista.index(5)  # Devuelve el índice del elemento 3\n",
    "print(indice)"
   ]
  },
  {
   "cell_type": "code",
   "execution_count": 70,
   "metadata": {},
   "outputs": [
    {
     "name": "stdout",
     "output_type": "stream",
     "text": [
      "0\n"
     ]
    }
   ],
   "source": [
    "#Contar ocurrencias de un elemento en una lista\n",
    "\n",
    "conteo = mi_lista.count(2)  # Cuántas veces aparece el elemento 2\n",
    "print(conteo)"
   ]
  },
  {
   "cell_type": "markdown",
   "metadata": {},
   "source": [
    "-----"
   ]
  }
 ],
 "metadata": {
  "kernelspec": {
   "display_name": "Python 3",
   "language": "python",
   "name": "python3"
  },
  "language_info": {
   "codemirror_mode": {
    "name": "ipython",
    "version": 3
   },
   "file_extension": ".py",
   "mimetype": "text/x-python",
   "name": "python",
   "nbconvert_exporter": "python",
   "pygments_lexer": "ipython3",
   "version": "3.10.8"
  },
  "orig_nbformat": 4
 },
 "nbformat": 4,
 "nbformat_minor": 2
}
