{
 "cells": [
  {
   "cell_type": "markdown",
   "metadata": {},
   "source": [
    "<div align=\"center\">\n",
    "  <img src=\"src/Head.png\" alt=\"Conceptos básicos de Python\">\n",
    "</div>"
   ]
  },
  {
   "cell_type": "markdown",
   "metadata": {},
   "source": [
    "<p align=\"center\">\n",
    "<a href=\"https://github.com/AlarconIlbert\"><img src=\"https://img.shields.io/badge/python-FFFF0.svg?style=for-the-badge&logo=python&logoColor=0768a8&labelColor=ffffff\" alt=\"python\"></a> <img src=\"https://img.shields.io/badge/vscode-blue.svg?style=for-the-badge&logo=visual-studio-code&labelColor=ffffff&logoColor=blue\" alt=\"vscode\"> <a href=\"https://github.com/AlarconIlbert\"><img src=\"https://img.shields.io/badge/github-black.svg?style=for-the-badge&logo=github&logoColor=black&labelColor=ffffff\" alt=\"github\"></a>\n",
    "</p>\n",
    "\n",
    "\n",
    "<p align=\"center\">\n",
    "  <a href=\"https://www.linkedin.com/in/ilbert-ferney-alarcon-bothia/\">\n",
    "    <img src=\"https://img.shields.io/badge/-ILBERT-blue?style=flat-square&logo=Linkedin&logoColor=white\" alt=\"Linkedin: thaianebraga\">\n",
    "  </a>\n",
    "  <img src=\"https://img.shields.io/github/followers/AlarconIlbert?label=Follow&style=social\" alt=\"GitHub followers\">\n",
    "  <a href=\"mailto:ilbertalarcon1@gmail.com\">\n",
    "    <img src=\"https://img.shields.io/badge/Outlook-ilbertalarcon1@gmail.com-red\" alt=\"Outlook\">\n",
    "  </a>\n",
    "</p>"
   ]
  },
  {
   "cell_type": "markdown",
   "metadata": {},
   "source": [
    "### 1.Comentarios: Los comentarios se crean con el símbolo #. Los comentarios son útiles para agregar notas explicativas en tu código."
   ]
  },
  {
   "cell_type": "code",
   "execution_count": null,
   "metadata": {},
   "outputs": [],
   "source": [
    "#Hola mundo en comentario"
   ]
  },
  {
   "cell_type": "markdown",
   "metadata": {},
   "source": [
    "### 2.Indentación: Python utiliza la indentación en lugar de llaves o paréntesis para delimitar bloques de código. Los bloques deben tener la misma cantidad de espacio en blanco al principio"
   ]
  },
  {
   "cell_type": "code",
   "execution_count": null,
   "metadata": {},
   "outputs": [],
   "source": [
    "x=10\n",
    "if x > 5:\n",
    "    print(\"x es mayor que 5\")"
   ]
  },
  {
   "cell_type": "markdown",
   "metadata": {},
   "source": [
    "### 3. Identificadores: Los nombres de variables deben seguir ciertas convenciones, como comenzar con una letra o un guion bajo, no contener espacios y seguir un estilo de nomenclatura, como snake_case (todas en minúsculas, separadas por guiones bajos)."
   ]
  },
  {
   "cell_type": "code",
   "execution_count": null,
   "metadata": {},
   "outputs": [],
   "source": [
    "mi_variable = 42"
   ]
  },
  {
   "cell_type": "markdown",
   "metadata": {},
   "source": [
    "### 4.Variables y asignación: En Python, no es necesario declarar el tipo de una variable; Python lo infiere automáticamente."
   ]
  },
  {
   "cell_type": "code",
   "execution_count": null,
   "metadata": {},
   "outputs": [],
   "source": [
    "nombre = \"Juan\"\n",
    "edad = 30"
   ]
  },
  {
   "cell_type": "markdown",
   "metadata": {},
   "source": [
    "### 5. Bloques de código: Los bloques de código se definen mediante la indentación. Los dos puntos (:) indican el inicio de un bloque."
   ]
  },
  {
   "cell_type": "code",
   "execution_count": null,
   "metadata": {},
   "outputs": [],
   "source": [
    "x=10\n",
    "if x > 5:\n",
    "    print(\"x es mayor que 5\")"
   ]
  },
  {
   "cell_type": "markdown",
   "metadata": {},
   "source": [
    "### 6. Uso de comillas: Puedes usar comillas simples (') o comillas dobles (\") para definir cadenas de texto."
   ]
  },
  {
   "cell_type": "code",
   "execution_count": null,
   "metadata": {},
   "outputs": [],
   "source": [
    "nombre = 'Ilbert'\n",
    "apellido = \"Alarcon\""
   ]
  },
  {
   "cell_type": "markdown",
   "metadata": {},
   "source": [
    "### 7. Convenciones del PEP 8: El PEP 8 es un conjunto de convenciones de estilo que ayudan a que el código sea más legible. Algunas de las recomendaciones clave incluyen:\n",
    "\n",
    "Usar sangría de 4 espacios.<br>\n",
    "Limitar las líneas a 79 caracteres para código y 72 caracteres para comentarios y documentación.<br>\n",
    "Usar nombres descriptivos para variables y funciones.<br>\n",
    "Evitar líneas en blanco innecesarias y espacios en blanco al final de las líneas.<br>\n",
    "Utilizar dos líneas en blanco para separar funciones y clases.<br>"
   ]
  },
  {
   "cell_type": "code",
   "execution_count": null,
   "metadata": {},
   "outputs": [],
   "source": [
    "def calcular_promedio(lista_de_numeros):\n",
    "    total = sum(lista_de_numeros)\n",
    "    cantidad = len(lista_de_numeros)\n",
    "    promedio = total / cantidad\n",
    "    return promedio"
   ]
  },
  {
   "cell_type": "markdown",
   "metadata": {},
   "source": [
    "----"
   ]
  },
  {
   "cell_type": "code",
   "execution_count": null,
   "metadata": {},
   "outputs": [],
   "source": [
    "print('Hola, Python')"
   ]
  },
  {
   "cell_type": "markdown",
   "metadata": {},
   "source": [
    "¿Qué versión de Python estamos usando? "
   ]
  },
  {
   "cell_type": "code",
   "execution_count": null,
   "metadata": {},
   "outputs": [],
   "source": [
    "import sys\n",
    "print(sys.version)"
   ]
  },
  {
   "cell_type": "markdown",
   "metadata": {},
   "source": [
    "Errores en Python"
   ]
  },
  {
   "cell_type": "code",
   "execution_count": null,
   "metadata": {},
   "outputs": [],
   "source": [
    "frint('Hola, Python')"
   ]
  },
  {
   "cell_type": "markdown",
   "metadata": {},
   "source": [
    "¿Python sabe de su error antes de ejecutar su código?"
   ]
  },
  {
   "cell_type": "code",
   "execution_count": null,
   "metadata": {},
   "outputs": [],
   "source": [
    "print('Hola, Python')\n",
    "frint('Hola, Python')\n",
    "print('Hola, Python')"
   ]
  },
  {
   "cell_type": "markdown",
   "metadata": {},
   "source": [
    "-----"
   ]
  },
  {
   "cell_type": "markdown",
   "metadata": {},
   "source": [
    "## Variables y tipos de datos:"
   ]
  },
  {
   "cell_type": "code",
   "execution_count": null,
   "metadata": {},
   "outputs": [],
   "source": [
    "# Asignar valores a variables\n",
    "\n",
    "nombre = \"Juan\"\n",
    "edad = 30\n",
    "precio = 19.99"
   ]
  },
  {
   "cell_type": "code",
   "execution_count": null,
   "metadata": {},
   "outputs": [],
   "source": [
    "# Reasignar valores a variables\n",
    "\n",
    "nombre = \"María\"\n",
    "edad = edad + 1"
   ]
  },
  {
   "cell_type": "markdown",
   "metadata": {},
   "source": [
    "### Tipos de Datos Fundamentales"
   ]
  },
  {
   "cell_type": "code",
   "execution_count": null,
   "metadata": {},
   "outputs": [],
   "source": [
    "#Cadenas (Strings)\n",
    "\n",
    "texto = \"Hola, mundo!\"\n",
    "\n",
    "#Números enteros (int)\n",
    "edad = 25\n",
    "\n",
    "#Números de punto flotante (float)\n",
    "precio = 19.99\n",
    "\n",
    "#Booleanos (bool)\n",
    "es_mayor_de_edad = True"
   ]
  },
  {
   "cell_type": "markdown",
   "metadata": {},
   "source": [
    "### Conversión de Tipos de Datos"
   ]
  },
  {
   "cell_type": "code",
   "execution_count": null,
   "metadata": {},
   "outputs": [],
   "source": [
    "#Convertir a cadena\n",
    "edad = 30\n",
    "texto_edad = str(edad)\n",
    "\n",
    "#Convertir a entero\n",
    "numero_texto = \"25\"\n",
    "numero = int(numero_texto)\n",
    "\n",
    "#Convertir a punto flotante\n",
    "precio_texto = \"19.99\"\n",
    "precio = float(precio_texto)"
   ]
  },
  {
   "cell_type": "markdown",
   "metadata": {},
   "source": [
    "--------"
   ]
  },
  {
   "cell_type": "markdown",
   "metadata": {},
   "source": [
    "# Operaciones Matematicas"
   ]
  },
  {
   "cell_type": "markdown",
   "metadata": {},
   "source": [
    "<div align=\"center\">\n",
    "  \n",
    "| Operador      | Descripción                    | Ejemplo      |\n",
    "|:-------------:|:------------------------------:|:------------:|\n",
    "| `+`           | Suma                           | `a + b`      |\n",
    "| `-`           | Resta                          | `a - b`      |\n",
    "| `*`           | Multiplicación                 | `x * y`      |\n",
    "| `/`           | División                       | `dividendo / divisor` |\n",
    "| `//`          | División entera                | `dividendo // divisor` |\n",
    "| `%`           | Módulo (resto de la división)  | `a % b`      |\n",
    "| `**`          | Exponenciación                 | `base ** exponente`  |\n",
    "\n",
    "\n",
    "</div>"
   ]
  },
  {
   "cell_type": "markdown",
   "metadata": {},
   "source": [
    "# Operaciones Abreviadas"
   ]
  },
  {
   "cell_type": "markdown",
   "metadata": {},
   "source": [
    "<div align=\"center\">\n",
    "  \n",
    "| Operador    | Descripción                   | Ejemplo                  |\n",
    "|:-------------:|:-------------------------------:|:--------------------------:|\n",
    "| `+=`        | Suma abreviada                | `x = 5`<br>`x += 3`     |\n",
    "| `-=`        | Resta abreviada               | `y = 10`<br>`y -= 4`    |\n",
    "| `*=`        | Multiplicación abreviada      | `z = 6`<br>`z *= 7`     |\n",
    "| `/=`        | División abreviada            | `w = 20`<br>`w /= 4`    |\n",
    "| `//=`       | División entera abreviada     | `a = 9`<br>`a //= 2`    |\n",
    "| `%=`        | Módulo abreviado              | `b = 11`<br>`b %= 3`    |\n",
    "| `**=`       | Exponente abreviado           | `c = 2`<br>`c **= 3`    |\n",
    "\n",
    "</div>"
   ]
  },
  {
   "cell_type": "markdown",
   "metadata": {},
   "source": [
    "# Estructuras de control"
   ]
  },
  {
   "cell_type": "markdown",
   "metadata": {},
   "source": [
    "### Declaración if"
   ]
  },
  {
   "cell_type": "code",
   "execution_count": null,
   "metadata": {},
   "outputs": [],
   "source": [
    "edad = 18\n",
    "if edad >= 18:\n",
    "    print(\"Eres mayor de edad\")\n",
    "else:\n",
    "    print(\"Eres menor de edad\")"
   ]
  },
  {
   "cell_type": "markdown",
   "metadata": {},
   "source": [
    "### Bucles for"
   ]
  },
  {
   "cell_type": "code",
   "execution_count": null,
   "metadata": {},
   "outputs": [],
   "source": [
    "numeros = [1, 2, 3, 4, 5]\n",
    "for numero in numeros:\n",
    "    print(numero)"
   ]
  },
  {
   "cell_type": "markdown",
   "metadata": {},
   "source": [
    "### Bucle while"
   ]
  },
  {
   "cell_type": "code",
   "execution_count": null,
   "metadata": {},
   "outputs": [],
   "source": [
    "contador = 0\n",
    "while contador < 5:\n",
    "    print(contador)\n",
    "    contador += 1"
   ]
  },
  {
   "cell_type": "markdown",
   "metadata": {},
   "source": [
    "### Declaración break"
   ]
  },
  {
   "cell_type": "code",
   "execution_count": null,
   "metadata": {},
   "outputs": [],
   "source": [
    "# Usar break para salir de un bucle\n",
    "\n",
    "numeros = [1, 2, 3, 4, 5]\n",
    "for numero in numeros:\n",
    "    if numero == 3:\n",
    "        break\n",
    "    print(numero)"
   ]
  },
  {
   "cell_type": "markdown",
   "metadata": {},
   "source": [
    "### Declaración continue"
   ]
  },
  {
   "cell_type": "code",
   "execution_count": null,
   "metadata": {},
   "outputs": [],
   "source": [
    "# Usar continue para saltar a la siguiente iteración en un bucle\n",
    "\n",
    "numeros = [1, 2, 3, 4, 5]\n",
    "for numero in numeros:\n",
    "    if numero == 3:\n",
    "        continue\n",
    "    print(numero)"
   ]
  },
  {
   "cell_type": "markdown",
   "metadata": {},
   "source": [
    "------"
   ]
  },
  {
   "cell_type": "markdown",
   "metadata": {},
   "source": [
    "# Definir Funciones"
   ]
  },
  {
   "cell_type": "code",
   "execution_count": null,
   "metadata": {},
   "outputs": [],
   "source": [
    "# Definir una función básica\n",
    "def saludar():\n",
    "    print(\"¡Hola, mundo!\")\n",
    "\n",
    "# Llamar a la función\n",
    "saludar()"
   ]
  },
  {
   "cell_type": "code",
   "execution_count": null,
   "metadata": {},
   "outputs": [],
   "source": [
    "# Definir una función con parámetros\n",
    "\n",
    "def saludar(nombre):\n",
    "    print(f\"¡Hola, {nombre}!\")\n",
    "\n",
    "# Llamar a la función con argumento\n",
    "saludar(\"Juan\")"
   ]
  },
  {
   "cell_type": "markdown",
   "metadata": {},
   "source": [
    "### Parámetros y Argumentos"
   ]
  },
  {
   "cell_type": "code",
   "execution_count": null,
   "metadata": {},
   "outputs": [],
   "source": [
    "#Parámetros posicionales\n",
    "\n",
    "def suma(a, b):\n",
    "    resultado = a + b\n",
    "    return resultado\n",
    "\n",
    "# Llamar a la función con argumentos posicionales\n",
    "resultado = suma(5, 3)\n",
    "print(resultado)"
   ]
  },
  {
   "cell_type": "code",
   "execution_count": null,
   "metadata": {},
   "outputs": [],
   "source": [
    "#Parámetros por defecto\n",
    "\n",
    "def saludar(nombre=\"Invitado\"):\n",
    "    print(f\"¡Hola, {nombre}!\")\n",
    "\n",
    "# Llamar a la función sin argumento (usará el valor por defecto)\n",
    "saludar()\n",
    "\n",
    "# Llamar a la función con argumento\n",
    "saludar(\"Ana\")"
   ]
  },
  {
   "cell_type": "code",
   "execution_count": null,
   "metadata": {},
   "outputs": [],
   "source": [
    "#Retornar un valor desde una función\n",
    "\n",
    "def suma(a, b):\n",
    "    resultado = a + b\n",
    "    return resultado\n",
    "\n",
    "# Llamar a la función y almacenar el resultado\n",
    "resultado = suma(5, 3)\n",
    "print(resultado)"
   ]
  },
  {
   "cell_type": "code",
   "execution_count": null,
   "metadata": {},
   "outputs": [],
   "source": [
    "#Función con múltiples parámetros\n",
    "\n",
    "def calcular_promedio(a, b, c):\n",
    "    suma = a + b + c\n",
    "    promedio = suma / 3\n",
    "    return promedio\n",
    "\n",
    "# Llamar a la función con argumentos\n",
    "promedio = calcular_promedio(10, 15, 20)\n",
    "print(promedio)"
   ]
  },
  {
   "cell_type": "code",
   "execution_count": null,
   "metadata": {},
   "outputs": [],
   "source": [
    "#Función con argumentos de palabra clave\n",
    "\n",
    "def saludar(nombre, saludo=\"Hola\"):\n",
    "    print(f\"{saludo}, {nombre}!\")\n",
    "\n",
    "# Llamar a la función con argumentos de palabra clave\n",
    "saludar(nombre=\"Juan\", saludo=\"Buen día\")"
   ]
  },
  {
   "cell_type": "code",
   "execution_count": null,
   "metadata": {},
   "outputs": [],
   "source": [
    "#Función con parámetros arbitrarios (lista de argumentos)\n",
    "\n",
    "def listar_colores(*colores):\n",
    "    for color in colores:\n",
    "        print(color)\n",
    "\n",
    "# Llamar a la función con varios argumentos\n",
    "listar_colores(\"Rojo\", \"Verde\", \"Azul\")"
   ]
  },
  {
   "cell_type": "code",
   "execution_count": null,
   "metadata": {},
   "outputs": [],
   "source": [
    "#Función con parámetros arbitrarios (diccionario de argumentos)\n",
    "\n",
    "def mostrar_info(**datos):\n",
    "    for clave, valor in datos.items():\n",
    "        print(f\"{clave}: {valor}\")\n",
    "\n",
    "# Llamar a la función con argumentos como pares clave-valor\n",
    "mostrar_info(nombre=\"Ana\", edad=30, ciudad=\"Madrid\")"
   ]
  },
  {
   "cell_type": "markdown",
   "metadata": {},
   "source": [
    "------"
   ]
  },
  {
   "cell_type": "markdown",
   "metadata": {},
   "source": [
    "# Listas"
   ]
  },
  {
   "cell_type": "markdown",
   "metadata": {},
   "source": [
    "| Característica             | Descripción                                                  |\n",
    "|:-----------------------------:|--------------------------------------------------------------|\n",
    "| **Mutabilidad**             | Las listas son mutables, lo que significa que su contenido puede cambiar después de su creación.        |\n",
    "| **Orden**                   | Las listas son ordenadas, lo que significa que los elementos se almacenan en un orden específico y se pueden acceder por índice. |\n",
    "| **Heterogeneidad**          | Las listas pueden contener elementos de diferentes tipos de datos, como números, cadenas, listas anidadas, etc. |\n",
    "| **Índices y Slicing**       | Los elementos de una lista se acceden mediante índices, y se pueden obtener subconjuntos de una lista utilizando la técnica de \"slicing\". |\n",
    "| **Duplicados**              | Las listas pueden contener elementos duplicados, lo que significa que un mismo valor puede aparecer varias veces en una lista. |\n",
    "| **Longitud Dinámica**       | Puedes agregar o eliminar elementos de una lista según sea necesario, lo que hace que la longitud de la lista sea dinámica. |\n",
    "| **Operaciones de Lista**    | Las listas admiten una variedad de operaciones, como agregar elementos (`append`, `insert`), eliminar elementos (`pop`, `remove`), ordenar (`sort`), contar (`count`) y más. |\n",
    "| **Iteración**               | Puedes recorrer los elementos de una lista fácilmente utilizando bucles `for`. |\n",
    "| **Funciones y Métodos**     | Python proporciona funciones y métodos integrados para trabajar con listas, lo que facilita las operaciones comunes. |\n",
    "| **Representación**          | Las listas se representan con corchetes `[]`, y los elementos se separan por comas. Ejemplo: `[1, 2, 3]`. |"
   ]
  },
  {
   "cell_type": "code",
   "execution_count": null,
   "metadata": {},
   "outputs": [],
   "source": [
    "#Crear una lista\n",
    "mi_lista = [1, 2, 3, 4, 5]"
   ]
  },
  {
   "cell_type": "code",
   "execution_count": null,
   "metadata": {},
   "outputs": [],
   "source": [
    "#Acceder a elementos de una lista\n",
    "\n",
    "primer_elemento = mi_lista[0]\n",
    "ultimo_elemento = mi_lista[-1]\n",
    "\n",
    "print(ultimo_elemento)"
   ]
  },
  {
   "cell_type": "code",
   "execution_count": null,
   "metadata": {},
   "outputs": [],
   "source": [
    "#Modificar elementos de una lista\n",
    "\n",
    "mi_lista[2] = 100"
   ]
  },
  {
   "cell_type": "code",
   "execution_count": null,
   "metadata": {},
   "outputs": [],
   "source": [
    "#Agregar elementos a una lista\n",
    "\n",
    "mi_lista.append(6)         # Agregar al final\n",
    "mi_lista.insert(1, 50)     # Insertar en una posición específica\n",
    "print(mi_lista)"
   ]
  },
  {
   "cell_type": "code",
   "execution_count": null,
   "metadata": {},
   "outputs": [],
   "source": [
    "#Eliminar elementos de una lista\n",
    "\n",
    "elemento_eliminado = mi_lista.pop()        # Eliminar el último elemento y obtenerlo\n",
    "elemento_eliminado = mi_lista.pop(2)       # Eliminar un elemento en una posición específica\n",
    "mi_lista.remove(4)\n",
    "print(mi_lista)"
   ]
  },
  {
   "cell_type": "markdown",
   "metadata": {},
   "source": [
    "-------"
   ]
  },
  {
   "cell_type": "markdown",
   "metadata": {},
   "source": [
    "# Tuplas"
   ]
  },
  {
   "cell_type": "markdown",
   "metadata": {},
   "source": [
    "| **Característica**             | Descripción                                                  |\n",
    "|:-----------------------------:|--------------------------------------------------------------|\n",
    "| **Inmutabilidad**           | Las tuplas son inmutables, lo que significa que una vez creadas, no se pueden modificar, agregar ni eliminar elementos.  |\n",
    "| **Orden**                   | Las tuplas son ordenadas, lo que significa que los elementos se almacenan en un orden específico y se pueden acceder por índice. |\n",
    "| **Heterogeneidad**          | Las tuplas pueden contener elementos de diferentes tipos de datos, al igual que las listas.  |\n",
    "| **Índices y Slicing**       | Los elementos de una tupla se acceden mediante índices, y también se pueden obtener subconjuntos de una tupla utilizando la técnica de \"slicing\". |\n",
    "| **Duplicados**              | Las tuplas pueden contener elementos duplicados, al igual que las listas.  |\n",
    "| **Longitud Fija**           | A diferencia de las listas, las tuplas tienen una longitud fija que se establece al crearlas, y no se pueden cambiar después. |\n",
    "| **Representación**          | Las tuplas se representan con paréntesis `()`, y los elementos se separan por comas. Ejemplo: `(1, 2, 3)`. |\n",
    "| **Uso de Coma en Tuplas de un Solo Elemento** | Para crear una tupla de un solo elemento, se utiliza una coma al final del valor, por ejemplo, `(1,)`. |\n",
    "| **Embalaje y Desembalaje**  | Las tuplas permiten el empaquetamiento (packing) y desempaquetamiento (unpacking) de valores en una sola operación. |\n",
    "| **Iteración**               | Puedes recorrer los elementos de una tupla fácilmente utilizando bucles `for`. |\n",
    "| **Funciones y Métodos**     | Aunque las tuplas son inmutables, Python proporciona algunas funciones y métodos integrados para trabajar con ellas, como `count` e `index`. |"
   ]
  },
  {
   "cell_type": "code",
   "execution_count": null,
   "metadata": {},
   "outputs": [],
   "source": [
    "#Crear una tupla\n",
    "\n",
    "mi_tupla = (1, 2, 3, 4, 5)"
   ]
  },
  {
   "cell_type": "code",
   "execution_count": null,
   "metadata": {},
   "outputs": [],
   "source": [
    "#Acceder a elementos de una tupla\n",
    "\n",
    "primer_elemento = mi_tupla[0]\n",
    "ultimo_elemento = mi_tupla[-1]"
   ]
  },
  {
   "cell_type": "code",
   "execution_count": null,
   "metadata": {},
   "outputs": [],
   "source": [
    "#Las tuplas son inmutables (no se pueden modificar)\n",
    "\n",
    "# Esto generará un error\n",
    "mi_tupla[2] = 100"
   ]
  },
  {
   "cell_type": "markdown",
   "metadata": {},
   "source": [
    "### Conversión entre Listas y Tuplas"
   ]
  },
  {
   "cell_type": "code",
   "execution_count": null,
   "metadata": {},
   "outputs": [],
   "source": [
    "#Convertir una lista en tupla\n",
    "\n",
    "mi_lista = [1, 2, 3]\n",
    "mi_tupla = tuple(mi_lista)"
   ]
  },
  {
   "cell_type": "code",
   "execution_count": null,
   "metadata": {},
   "outputs": [],
   "source": [
    "#Convertir una tupla en lista\n",
    "\n",
    "mi_tupla = (4, 5, 6)\n",
    "mi_lista = list(mi_tupla)"
   ]
  },
  {
   "cell_type": "markdown",
   "metadata": {},
   "source": [
    "### Funciones Útiles para Listas y Tuplas"
   ]
  },
  {
   "cell_type": "code",
   "execution_count": null,
   "metadata": {},
   "outputs": [],
   "source": [
    "#Longitud de una lista o tupla\n",
    "\n",
    "longitud = len(mi_lista)"
   ]
  },
  {
   "cell_type": "code",
   "execution_count": null,
   "metadata": {},
   "outputs": [],
   "source": [
    "#Ordenar una lista\n",
    "\n",
    "mi_lista.sort()        # Ordenar en orden ascendente\n",
    "mi_lista.sort(reverse=True)  # Ordenar en orden descendente"
   ]
  },
  {
   "cell_type": "code",
   "execution_count": null,
   "metadata": {},
   "outputs": [],
   "source": [
    "#Obtener el índice de un elemento en una lista\n",
    "\n",
    "indice = mi_lista.index(5)  # Devuelve el índice del elemento 3\n",
    "print(indice)"
   ]
  },
  {
   "cell_type": "code",
   "execution_count": null,
   "metadata": {},
   "outputs": [],
   "source": [
    "#Contar ocurrencias de un elemento en una lista\n",
    "\n",
    "conteo = mi_lista.count(2)  # Cuántas veces aparece el elemento 2\n",
    "print(conteo)"
   ]
  },
  {
   "cell_type": "markdown",
   "metadata": {},
   "source": [
    "-----"
   ]
  },
  {
   "cell_type": "markdown",
   "metadata": {},
   "source": [
    "# Diccionario"
   ]
  },
  {
   "cell_type": "markdown",
   "metadata": {},
   "source": [
    "| Característica             | Descripción                                                  |\n",
    "|:-----------------------------:|--------------------------------------------------------------|\n",
    "| **Estructura de Clave-Valor** | Los diccionarios son estructuras de datos que almacenan datos en pares clave-valor. Cada valor está asociado a una clave única. |\n",
    "| **Mutabilidad**             | Los diccionarios son mutables, lo que significa que su contenido (valores y estructura) puede cambiar después de su creación. |\n",
    "| **Orden (a partir de Python 3.7+)** | A partir de Python 3.7, los diccionarios mantienen el orden de inserción de elementos, lo que significa que los elementos se almacenan en el orden en que se agregaron. |\n",
    "| **Heterogeneidad**          | Los diccionarios pueden contener valores de diferentes tipos de datos, como números, cadenas, listas u otros diccionarios. |\n",
    "| **Índices y Claves**        | Los elementos de un diccionario se acceden mediante claves (no por índices) y las claves son únicas dentro de un diccionario. |\n",
    "| **Duplicados de Clave**     | Las claves en un diccionario son únicas; no pueden haber claves duplicadas dentro del mismo diccionario. |\n",
    "| **Funciones Útiles**        | Python proporciona una variedad de funciones y métodos integrados para trabajar con diccionarios, como `keys()`, `values()`, `items()`, etc. |\n",
    "| **Operaciones Comunes**     | Puedes agregar, modificar, eliminar, buscar y comprobar si una clave existe en un diccionario, entre otras operaciones. |\n",
    "| **Iteración**               | Puedes recorrer las claves, valores o pares clave-valor de un diccionario utilizando bucles `for`. |\n",
    "| **Tamaño del Diccionario**  | Puedes obtener la cantidad de elementos (pares clave-valor) en un diccionario utilizando la función `len()`. |\n",
    "| **Estructuras Anidadas**    | Los diccionarios pueden contener otros diccionarios o estructuras de datos anidadas, lo que permite representar datos complejos. |\n",
    "| **Copiado de Diccionarios** | Puedes crear copias de diccionarios, incluyendo copias superficiales y profundas. |"
   ]
  },
  {
   "cell_type": "code",
   "execution_count": 1,
   "metadata": {},
   "outputs": [],
   "source": [
    "#Crear un diccionario vacío\n",
    "\n",
    "mi_diccionario = {}"
   ]
  },
  {
   "cell_type": "code",
   "execution_count": 2,
   "metadata": {},
   "outputs": [
    {
     "name": "stdout",
     "output_type": "stream",
     "text": [
      "{'nombre': 'Juan', 'edad': 30, 'ciudad': 'Madrid'}\n"
     ]
    }
   ],
   "source": [
    "#Crear un diccionario con valores\n",
    "\n",
    "mi_diccionario = {\"nombre\": \"Juan\", \"edad\": 30, \"ciudad\": \"Madrid\"}\n",
    "print(mi_diccionario)"
   ]
  },
  {
   "cell_type": "markdown",
   "metadata": {},
   "source": [
    "### Acceder a Elementos del Diccionario"
   ]
  },
  {
   "cell_type": "code",
   "execution_count": 3,
   "metadata": {},
   "outputs": [
    {
     "name": "stdout",
     "output_type": "stream",
     "text": [
      "Juan\n"
     ]
    }
   ],
   "source": [
    "#Acceder a un valor por clave\n",
    "\n",
    "nombre = mi_diccionario[\"nombre\"]\n",
    "print(nombre)"
   ]
  },
  {
   "cell_type": "code",
   "execution_count": 4,
   "metadata": {},
   "outputs": [
    {
     "name": "stdout",
     "output_type": "stream",
     "text": [
      "30\n"
     ]
    }
   ],
   "source": [
    "#Obtener un valor con el método get()\n",
    "\n",
    "edad = mi_diccionario.get(\"edad\")\n",
    "print(edad)"
   ]
  },
  {
   "cell_type": "markdown",
   "metadata": {},
   "source": [
    "### Modificar y Agregar Elementos"
   ]
  },
  {
   "cell_type": "code",
   "execution_count": 5,
   "metadata": {},
   "outputs": [
    {
     "name": "stdout",
     "output_type": "stream",
     "text": [
      "{'nombre': 'Juan', 'edad': 31, 'ciudad': 'Madrid'}\n"
     ]
    }
   ],
   "source": [
    "#Modificar el valor de una clave\n",
    "\n",
    "mi_diccionario[\"edad\"] = 31\n",
    "print(mi_diccionario)"
   ]
  },
  {
   "cell_type": "code",
   "execution_count": 6,
   "metadata": {},
   "outputs": [
    {
     "name": "stdout",
     "output_type": "stream",
     "text": [
      "{'nombre': 'Juan', 'edad': 31, 'ciudad': 'Madrid', 'profesion': 'Ingeniero'}\n"
     ]
    }
   ],
   "source": [
    "#Agregar una nueva clave-valor\n",
    "\n",
    "mi_diccionario[\"profesion\"] = \"Ingeniero\"\n",
    "print(mi_diccionario)"
   ]
  },
  {
   "cell_type": "markdown",
   "metadata": {},
   "source": [
    "### Eliminar Elementos del Diccionario"
   ]
  },
  {
   "cell_type": "code",
   "execution_count": 7,
   "metadata": {},
   "outputs": [],
   "source": [
    "#Eliminar una clave-valor por clave\n",
    "\n",
    "del mi_diccionario[\"ciudad\"]"
   ]
  },
  {
   "cell_type": "code",
   "execution_count": 8,
   "metadata": {},
   "outputs": [
    {
     "name": "stdout",
     "output_type": "stream",
     "text": [
      "Ingeniero\n"
     ]
    }
   ],
   "source": [
    "#Eliminar una clave-valor con el método pop()\n",
    "\n",
    "profesion = mi_diccionario.pop(\"profesion\")\n",
    "print(profesion)"
   ]
  },
  {
   "cell_type": "markdown",
   "metadata": {},
   "source": [
    "### Comprobar si una Clave Existe"
   ]
  },
  {
   "cell_type": "code",
   "execution_count": 9,
   "metadata": {},
   "outputs": [
    {
     "name": "stdout",
     "output_type": "stream",
     "text": [
      "La clave 'nombre' existe en el diccionario.\n"
     ]
    }
   ],
   "source": [
    "#Comprobar si una clave existe en el diccionario\n",
    "\n",
    "if \"nombre\" in mi_diccionario:\n",
    "    print(\"La clave 'nombre' existe en el diccionario.\")"
   ]
  },
  {
   "cell_type": "markdown",
   "metadata": {},
   "source": [
    "### Iterar a través de Claves y Valores"
   ]
  },
  {
   "cell_type": "code",
   "execution_count": 10,
   "metadata": {},
   "outputs": [
    {
     "name": "stdout",
     "output_type": "stream",
     "text": [
      "nombre\n",
      "edad\n"
     ]
    }
   ],
   "source": [
    "#Iterar a través de las claves\n",
    "\n",
    "for clave in mi_diccionario:\n",
    "    print(clave)"
   ]
  },
  {
   "cell_type": "code",
   "execution_count": 11,
   "metadata": {},
   "outputs": [
    {
     "name": "stdout",
     "output_type": "stream",
     "text": [
      "Juan\n",
      "31\n"
     ]
    }
   ],
   "source": [
    "#Iterar a través de los valores\n",
    "\n",
    "for valor in mi_diccionario.values():\n",
    "    print(valor)"
   ]
  },
  {
   "cell_type": "code",
   "execution_count": 12,
   "metadata": {},
   "outputs": [
    {
     "name": "stdout",
     "output_type": "stream",
     "text": [
      "nombre: Juan\n",
      "edad: 31\n"
     ]
    }
   ],
   "source": [
    "#Iterar a través de pares clave-valor\n",
    "\n",
    "for clave, valor in mi_diccionario.items():\n",
    "    print(f\"{clave}: {valor}\")"
   ]
  },
  {
   "cell_type": "markdown",
   "metadata": {},
   "source": [
    "### Tamaño del Diccionario"
   ]
  },
  {
   "cell_type": "code",
   "execution_count": 13,
   "metadata": {},
   "outputs": [
    {
     "name": "stdout",
     "output_type": "stream",
     "text": [
      "2\n"
     ]
    }
   ],
   "source": [
    "#Obtener el número de elementos en el diccionario\n",
    "\n",
    "tamanio = len(mi_diccionario)\n",
    "print(tamanio)"
   ]
  },
  {
   "cell_type": "markdown",
   "metadata": {},
   "source": [
    "### Copiar un Diccionario"
   ]
  },
  {
   "cell_type": "code",
   "execution_count": 14,
   "metadata": {},
   "outputs": [],
   "source": [
    "#Copiar un diccionario (shallow copy)\n",
    "\n",
    "copia_diccionario = mi_diccionario.copy()"
   ]
  },
  {
   "cell_type": "markdown",
   "metadata": {},
   "source": [
    "### Diccionarios Anidados"
   ]
  },
  {
   "cell_type": "code",
   "execution_count": 15,
   "metadata": {},
   "outputs": [
    {
     "name": "stdout",
     "output_type": "stream",
     "text": [
      "{'empleado1': {'nombre': 'Juan', 'edad': 30}, 'empleado2': {'nombre': 'Ana', 'edad': 25}}\n"
     ]
    }
   ],
   "source": [
    "# Crear un diccionario anidado\n",
    "\n",
    "empleados = {\n",
    "    \"empleado1\": {\"nombre\": \"Juan\", \"edad\": 30},\n",
    "    \"empleado2\": {\"nombre\": \"Ana\", \"edad\": 25}\n",
    "}\n",
    "\n",
    "print(empleados)"
   ]
  },
  {
   "cell_type": "code",
   "execution_count": 16,
   "metadata": {},
   "outputs": [
    {
     "name": "stdout",
     "output_type": "stream",
     "text": [
      "Juan\n"
     ]
    }
   ],
   "source": [
    "#Acceder a elementos en un diccionario anidado\n",
    "\n",
    "nombre_empleado1 = empleados[\"empleado1\"][\"nombre\"]\n",
    "print(nombre_empleado1)"
   ]
  },
  {
   "cell_type": "markdown",
   "metadata": {},
   "source": [
    "### Funciones Útiles para Diccionarios"
   ]
  },
  {
   "cell_type": "code",
   "execution_count": 17,
   "metadata": {},
   "outputs": [],
   "source": [
    "#Borrar todos los elementos del diccionario\n",
    "\n",
    "mi_diccionario.clear()"
   ]
  },
  {
   "cell_type": "code",
   "execution_count": 18,
   "metadata": {},
   "outputs": [],
   "source": [
    "#Crear un nuevo diccionario a partir de claves\n",
    "\n",
    "claves = [\"nombre\", \"edad\", \"ciudad\"]\n",
    "nuevo_diccionario = dict.fromkeys(claves)"
   ]
  },
  {
   "cell_type": "markdown",
   "metadata": {},
   "source": [
    "----"
   ]
  },
  {
   "cell_type": "markdown",
   "metadata": {},
   "source": [
    "# Manejo Básico de Excepciones"
   ]
  },
  {
   "cell_type": "code",
   "execution_count": 20,
   "metadata": {},
   "outputs": [
    {
     "name": "stdout",
     "output_type": "stream",
     "text": [
      "Error: División por cero.\n"
     ]
    }
   ],
   "source": [
    "# Capturar una excepción específica\n",
    "\n",
    "try:\n",
    "    resultado = 10 / 0  # Genera una excepción ZeroDivisionError\n",
    "except ZeroDivisionError:\n",
    "    print(\"Error: División por cero.\")"
   ]
  },
  {
   "cell_type": "code",
   "execution_count": 21,
   "metadata": {},
   "outputs": [
    {
     "name": "stdout",
     "output_type": "stream",
     "text": [
      "Ocurrió un error: division by zero\n"
     ]
    }
   ],
   "source": [
    "#Capturar excepciones genéricas\n",
    "\n",
    "try:\n",
    "    resultado = 10 / 0  # Genera una excepción ZeroDivisionError\n",
    "except Exception as e:\n",
    "    print(f\"Ocurrió un error: {e}\")"
   ]
  },
  {
   "cell_type": "markdown",
   "metadata": {},
   "source": [
    "### Bloque else en el Manejo de Excepciones"
   ]
  },
  {
   "cell_type": "code",
   "execution_count": 22,
   "metadata": {},
   "outputs": [
    {
     "name": "stdout",
     "output_type": "stream",
     "text": [
      "El resultado es: 5.0\n"
     ]
    }
   ],
   "source": [
    "#Usar un bloque else después del try y except\n",
    "\n",
    "try:\n",
    "    resultado = 10 / 2\n",
    "except ZeroDivisionError:\n",
    "    print(\"Error: División por cero.\")\n",
    "else:\n",
    "    print(f\"El resultado es: {resultado}\")"
   ]
  },
  {
   "cell_type": "markdown",
   "metadata": {},
   "source": [
    "### Bloque finally en el Manejo de Excepciones"
   ]
  },
  {
   "cell_type": "code",
   "execution_count": 24,
   "metadata": {},
   "outputs": [
    {
     "name": "stdout",
     "output_type": "stream",
     "text": [
      "Error: El archivo no se encontró.\n"
     ]
    }
   ],
   "source": [
    "archivo = None  # Inicializa la variable fuera del bloque try\n",
    "\n",
    "try:\n",
    "    archivo = open(\"archivo.txt\", \"r\")\n",
    "    contenido = archivo.read()\n",
    "except FileNotFoundError:\n",
    "    print(\"Error: El archivo no se encontró.\")\n",
    "finally:\n",
    "    if archivo is not None:\n",
    "        archivo.close()  # Cierra el archivo si se abrió con éxito"
   ]
  },
  {
   "cell_type": "markdown",
   "metadata": {},
   "source": [
    "### Lanzar Excepciones Personalizadas"
   ]
  },
  {
   "cell_type": "code",
   "execution_count": 25,
   "metadata": {},
   "outputs": [
    {
     "name": "stdout",
     "output_type": "stream",
     "text": [
      "Error: El divisor no puede ser cero.\n"
     ]
    }
   ],
   "source": [
    "#Lanzar una excepción personalizada\n",
    "\n",
    "def dividir(a, b):\n",
    "    if b == 0:\n",
    "        raise ValueError(\"El divisor no puede ser cero.\")\n",
    "    return a / b\n",
    "\n",
    "try:\n",
    "    resultado = dividir(10, 0)\n",
    "except ValueError as e:\n",
    "    print(f\"Error: {e}\")"
   ]
  },
  {
   "cell_type": "markdown",
   "metadata": {},
   "source": [
    "### Usar try, except, else, y finally Juntos"
   ]
  },
  {
   "cell_type": "code",
   "execution_count": 27,
   "metadata": {},
   "outputs": [
    {
     "name": "stdout",
     "output_type": "stream",
     "text": [
      "Error: El archivo no se encontró.\n"
     ]
    }
   ],
   "source": [
    "#Combinar todos los bloques en el manejo de excepciones\n",
    "\n",
    "archivo = None  # Inicializa la variable fuera del bloque try\n",
    "\n",
    "try:\n",
    "    archivo = open(\"datos.txt\", \"r\")\n",
    "    contenido = archivo.read()\n",
    "except FileNotFoundError:\n",
    "    print(\"Error: El archivo no se encontró.\")\n",
    "else:\n",
    "    print(\"Contenido del archivo:\")\n",
    "    print(contenido)\n",
    "finally:\n",
    "    if archivo is not None:\n",
    "        archivo.close()  # Siempre se cierra el archivo si se abrió con éxito"
   ]
  },
  {
   "cell_type": "code",
   "execution_count": 28,
   "metadata": {},
   "outputs": [
    {
     "name": "stdout",
     "output_type": "stream",
     "text": [
      "Error: División por cero.\n"
     ]
    }
   ],
   "source": [
    "#Manejar múltiples excepciones\n",
    "try:\n",
    "    resultado = 10 / 0  # Genera una excepción ZeroDivisionError\n",
    "except ZeroDivisionError:\n",
    "    print(\"Error: División por cero.\")\n",
    "except ArithmeticError:\n",
    "    print(\"Error aritmético.\")"
   ]
  }
 ],
 "metadata": {
  "kernelspec": {
   "display_name": "Python 3",
   "language": "python",
   "name": "python3"
  },
  "language_info": {
   "codemirror_mode": {
    "name": "ipython",
    "version": 3
   },
   "file_extension": ".py",
   "mimetype": "text/x-python",
   "name": "python",
   "nbconvert_exporter": "python",
   "pygments_lexer": "ipython3",
   "version": "3.10.8"
  },
  "orig_nbformat": 4
 },
 "nbformat": 4,
 "nbformat_minor": 2
}
